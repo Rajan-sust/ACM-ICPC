{
  "nbformat": 4,
  "nbformat_minor": 0,
  "metadata": {
    "colab": {
      "name": "TextClassification.ipynb",
      "provenance": [],
      "collapsed_sections": [],
      "authorship_tag": "ABX9TyO86XkXnN/sjYl7DpHbS9OR",
      "include_colab_link": true
    },
    "kernelspec": {
      "name": "python3",
      "display_name": "Python 3"
    }
  },
  "cells": [
    {
      "cell_type": "markdown",
      "metadata": {
        "id": "view-in-github",
        "colab_type": "text"
      },
      "source": [
        "<a href=\"https://colab.research.google.com/github/Rajan-sust/ACM-ICPC/blob/master/Classification/TextClassification.ipynb\" target=\"_parent\"><img src=\"https://colab.research.google.com/assets/colab-badge.svg\" alt=\"Open In Colab\"/></a>"
      ]
    },
    {
      "cell_type": "code",
      "metadata": {
        "id": "31CRkONOLEvk",
        "colab_type": "code",
        "colab": {}
      },
      "source": [
        "from sklearn.metrics import plot_confusion_matrix\n",
        "from sklearn.metrics import precision_recall_fscore_support\n",
        "import matplotlib.pyplot as plt\n",
        "import pandas as pd\n",
        "import numpy as np\n",
        "from sklearn.svm import SVC\n",
        "from sklearn.linear_model import LogisticRegression\n",
        "from tabulate import tabulate\n",
        "from tensorflow.keras import Sequential\n",
        "from tensorflow.keras.layers import Dense, Dropout"
      ],
      "execution_count": 0,
      "outputs": []
    },
    {
      "cell_type": "markdown",
      "metadata": {
        "id": "b2y1gu-qelWg",
        "colab_type": "text"
      },
      "source": [
        "### *Dataset*"
      ]
    },
    {
      "cell_type": "code",
      "metadata": {
        "id": "QSE7nzyWLPRF",
        "colab_type": "code",
        "colab": {}
      },
      "source": [
        "url = 'https://raw.githubusercontent.com/Rajan-sust/Ass/master/Dataset/comments_with_label.csv'\n",
        "dataset = pd.read_csv(url)"
      ],
      "execution_count": 0,
      "outputs": []
    },
    {
      "cell_type": "code",
      "metadata": {
        "id": "LbL-w-O-LX3c",
        "colab_type": "code",
        "outputId": "b3456209-f3c8-49f7-9ab8-7f0cdd99a2ab",
        "colab": {
          "base_uri": "https://localhost:8080/",
          "height": 34
        }
      },
      "source": [
        "dataset.shape"
      ],
      "execution_count": 3,
      "outputs": [
        {
          "output_type": "execute_result",
          "data": {
            "text/plain": [
              "(5011, 2)"
            ]
          },
          "metadata": {
            "tags": []
          },
          "execution_count": 3
        }
      ]
    },
    {
      "cell_type": "code",
      "metadata": {
        "id": "XIA2XGgPLavZ",
        "colab_type": "code",
        "outputId": "3d4f4ce0-41e7-459a-a4cb-01adba636dae",
        "colab": {
          "base_uri": "https://localhost:8080/",
          "height": 204
        }
      },
      "source": [
        "dataset.head()"
      ],
      "execution_count": 4,
      "outputs": [
        {
          "output_type": "execute_result",
          "data": {
            "text/html": [
              "<div>\n",
              "<style scoped>\n",
              "    .dataframe tbody tr th:only-of-type {\n",
              "        vertical-align: middle;\n",
              "    }\n",
              "\n",
              "    .dataframe tbody tr th {\n",
              "        vertical-align: top;\n",
              "    }\n",
              "\n",
              "    .dataframe thead th {\n",
              "        text-align: right;\n",
              "    }\n",
              "</style>\n",
              "<table border=\"1\" class=\"dataframe\">\n",
              "  <thead>\n",
              "    <tr style=\"text-align: right;\">\n",
              "      <th></th>\n",
              "      <th>comment</th>\n",
              "      <th>label</th>\n",
              "    </tr>\n",
              "  </thead>\n",
              "  <tbody>\n",
              "    <tr>\n",
              "      <th>0</th>\n",
              "      <td>সমস্যাটির জন্য আমরা আন্তরিকভাবে দুঃখিত। এই বিষ...</td>\n",
              "      <td>9</td>\n",
              "    </tr>\n",
              "    <tr>\n",
              "      <th>1</th>\n",
              "      <td>৩০দিন মেয়াদে ১০০ এমবি কিনবো কি ভাবে? কতো টাকা ...</td>\n",
              "      <td>1</td>\n",
              "    </tr>\n",
              "    <tr>\n",
              "      <th>2</th>\n",
              "      <td>সজল কে জানাচ্ছি কবিতা টি কবি পার্থ মুখার্জির</td>\n",
              "      <td>4</td>\n",
              "    </tr>\n",
              "    <tr>\n",
              "      <th>3</th>\n",
              "      <td>আপনি যেই প্যাকেজে থাকবেন সেই প্যাকেজ অনুযায়ী ক...</td>\n",
              "      <td>9</td>\n",
              "    </tr>\n",
              "    <tr>\n",
              "      <th>4</th>\n",
              "      <td>GPAY account use করে 13 টি utility company এর ...</td>\n",
              "      <td>9</td>\n",
              "    </tr>\n",
              "  </tbody>\n",
              "</table>\n",
              "</div>"
            ],
            "text/plain": [
              "                                             comment  label\n",
              "0  সমস্যাটির জন্য আমরা আন্তরিকভাবে দুঃখিত। এই বিষ...      9\n",
              "1  ৩০দিন মেয়াদে ১০০ এমবি কিনবো কি ভাবে? কতো টাকা ...      1\n",
              "2       সজল কে জানাচ্ছি কবিতা টি কবি পার্থ মুখার্জির      4\n",
              "3  আপনি যেই প্যাকেজে থাকবেন সেই প্যাকেজ অনুযায়ী ক...      9\n",
              "4  GPAY account use করে 13 টি utility company এর ...      9"
            ]
          },
          "metadata": {
            "tags": []
          },
          "execution_count": 4
        }
      ]
    },
    {
      "cell_type": "markdown",
      "metadata": {
        "id": "IWV4rKmwT_5W",
        "colab_type": "text"
      },
      "source": [
        "### *Dataset Sampling*"
      ]
    },
    {
      "cell_type": "code",
      "metadata": {
        "id": "-01d90FKLc8C",
        "colab_type": "code",
        "colab": {}
      },
      "source": [
        "def sampler():\n",
        "  \"\"\"\n",
        "  Return: A balanced Dataframe containing 174 comments of every class. \n",
        "  \"\"\"\n",
        "  index_of_labels = [[] for _ in range(10)]\n",
        "  for i,row in dataset.iterrows():\n",
        "    index_of_labels[row['label']].append(i)\n",
        "  samples = set()\n",
        "  for i in range(10):\n",
        "    samples |= set(np.random.choice(index_of_labels[i], 174, replace=False).tolist())\n",
        "  data = [[i, row['comment'], row['label']] for i, row in dataset.iterrows() if i in samples]\n",
        "  return pd.DataFrame(data, columns = ['prev_idx', 'comment', 'label'])"
      ],
      "execution_count": 0,
      "outputs": []
    },
    {
      "cell_type": "code",
      "metadata": {
        "id": "3A6_DKmLNGO4",
        "colab_type": "code",
        "colab": {}
      },
      "source": [
        "sampled_data = sampler()"
      ],
      "execution_count": 0,
      "outputs": []
    },
    {
      "cell_type": "code",
      "metadata": {
        "id": "fFy1UZ2LNqT6",
        "colab_type": "code",
        "outputId": "4e686e8c-8f66-47d0-c290-17ed69d55f9d",
        "colab": {
          "base_uri": "https://localhost:8080/",
          "height": 34
        }
      },
      "source": [
        "sampled_data.shape"
      ],
      "execution_count": 7,
      "outputs": [
        {
          "output_type": "execute_result",
          "data": {
            "text/plain": [
              "(1740, 3)"
            ]
          },
          "metadata": {
            "tags": []
          },
          "execution_count": 7
        }
      ]
    },
    {
      "cell_type": "code",
      "metadata": {
        "id": "Av_HcISpXuDH",
        "colab_type": "code",
        "outputId": "85d5c9f8-7ead-4792-92e7-aa0dcce5effb",
        "colab": {
          "base_uri": "https://localhost:8080/",
          "height": 204
        }
      },
      "source": [
        "sampled_data.head()"
      ],
      "execution_count": 8,
      "outputs": [
        {
          "output_type": "execute_result",
          "data": {
            "text/html": [
              "<div>\n",
              "<style scoped>\n",
              "    .dataframe tbody tr th:only-of-type {\n",
              "        vertical-align: middle;\n",
              "    }\n",
              "\n",
              "    .dataframe tbody tr th {\n",
              "        vertical-align: top;\n",
              "    }\n",
              "\n",
              "    .dataframe thead th {\n",
              "        text-align: right;\n",
              "    }\n",
              "</style>\n",
              "<table border=\"1\" class=\"dataframe\">\n",
              "  <thead>\n",
              "    <tr style=\"text-align: right;\">\n",
              "      <th></th>\n",
              "      <th>prev_idx</th>\n",
              "      <th>comment</th>\n",
              "      <th>label</th>\n",
              "    </tr>\n",
              "  </thead>\n",
              "  <tbody>\n",
              "    <tr>\n",
              "      <th>0</th>\n",
              "      <td>2</td>\n",
              "      <td>সজল কে জানাচ্ছি কবিতা টি কবি পার্থ মুখার্জির</td>\n",
              "      <td>4</td>\n",
              "    </tr>\n",
              "    <tr>\n",
              "      <th>1</th>\n",
              "      <td>6</td>\n",
              "      <td>১৪ টাকায় ১ জি বি ,,,এটা কি সবাই নিতে পারবে</td>\n",
              "      <td>7</td>\n",
              "    </tr>\n",
              "    <tr>\n",
              "      <th>2</th>\n",
              "      <td>11</td>\n",
              "      <td>এমবি থাকার পরেও কিছু চালাইতে পারতাছিনা কেনো?</td>\n",
              "      <td>0</td>\n",
              "    </tr>\n",
              "    <tr>\n",
              "      <th>3</th>\n",
              "      <td>13</td>\n",
              "      <td>মাইজীপি থেকে ডিজুস প্যাকেজ চালু করলে কি হয়।</td>\n",
              "      <td>3</td>\n",
              "    </tr>\n",
              "    <tr>\n",
              "      <th>4</th>\n",
              "      <td>15</td>\n",
              "      <td>ব‌ু‌জেন তো, সবাই ঘ‌রে থাকা জরুরী। অাবার ব‌কেয়...</td>\n",
              "      <td>4</td>\n",
              "    </tr>\n",
              "  </tbody>\n",
              "</table>\n",
              "</div>"
            ],
            "text/plain": [
              "   prev_idx                                            comment  label\n",
              "0         2       সজল কে জানাচ্ছি কবিতা টি কবি পার্থ মুখার্জির      4\n",
              "1         6        ১৪ টাকায় ১ জি বি ,,,এটা কি সবাই নিতে পারবে      7\n",
              "2        11       এমবি থাকার পরেও কিছু চালাইতে পারতাছিনা কেনো?      0\n",
              "3        13       মাইজীপি থেকে ডিজুস প্যাকেজ চালু করলে কি হয়।      3\n",
              "4        15  ব‌ু‌জেন তো, সবাই ঘ‌রে থাকা জরুরী। অাবার ব‌কেয়...      4"
            ]
          },
          "metadata": {
            "tags": []
          },
          "execution_count": 8
        }
      ]
    },
    {
      "cell_type": "markdown",
      "metadata": {
        "id": "1FpxdPHkUO3y",
        "colab_type": "text"
      },
      "source": [
        "### *Vectorization using precomputed vector*"
      ]
    },
    {
      "cell_type": "code",
      "metadata": {
        "id": "0gMTfWfffQ1o",
        "colab_type": "code",
        "colab": {}
      },
      "source": [
        "def vectorizer(indexs):\n",
        "  \"\"\"\n",
        "  X.npy is generated using Fasttext\n",
        "  \"\"\"\n",
        "  matrix = np.load('X.npy')\n",
        "  return np.array([matrix[idx] for idx in indexs])"
      ],
      "execution_count": 0,
      "outputs": []
    },
    {
      "cell_type": "markdown",
      "metadata": {
        "id": "6dS4dLtVUkHp",
        "colab_type": "text"
      },
      "source": [
        "### *Dataset Splitting*"
      ]
    },
    {
      "cell_type": "code",
      "metadata": {
        "id": "IDVpa2sgRCA-",
        "colab_type": "code",
        "colab": {}
      },
      "source": [
        "train_data = sampled_data.sample(frac = 0.8, random_state = 0)\n",
        "test_data = sampled_data.drop(train_data.index)"
      ],
      "execution_count": 0,
      "outputs": []
    },
    {
      "cell_type": "code",
      "metadata": {
        "id": "TflVzvXtc0dS",
        "colab_type": "code",
        "colab": {}
      },
      "source": [
        "X_train, X_test = vectorizer(train_data['prev_idx']), vectorizer(test_data['prev_idx'])\n",
        "y_train, y_test = train_data.pop('label').to_numpy(), test_data.pop('label').to_numpy()"
      ],
      "execution_count": 0,
      "outputs": []
    },
    {
      "cell_type": "markdown",
      "metadata": {
        "id": "VRl-gn3KUvvz",
        "colab_type": "text"
      },
      "source": [
        "### *SVM*"
      ]
    },
    {
      "cell_type": "code",
      "metadata": {
        "id": "V_NQvtWEqjYO",
        "colab_type": "code",
        "colab": {}
      },
      "source": [
        "def support_vector_classifier():\n",
        "  def metrics_analyzer(clf):\n",
        "    plot_confusion_matrix(clf, X_test, y_test, cmap=plt.cm.Blues)\n",
        "    plt.show()\n",
        "    accuracy = clf.score(X_test, y_test)\n",
        "    precision, recall, fscore, _ = precision_recall_fscore_support(y_test, clf.predict(X_test), average='macro')\n",
        "    print(tabulate([[accuracy, precision, recall, fscore]], headers=['accuracy', 'precision', 'recall', 'fscore'], tablefmt='orgtbl'))\n",
        "\n",
        "  clf = SVC(kernel='linear')\n",
        "  clf.fit(X_train, y_train)\n",
        "  metrics_analyzer(clf)"
      ],
      "execution_count": 0,
      "outputs": []
    },
    {
      "cell_type": "code",
      "metadata": {
        "id": "wy6N22DgrJGT",
        "colab_type": "code",
        "outputId": "1d4208df-5bd0-4329-80cc-a4c80ed3a776",
        "colab": {
          "base_uri": "https://localhost:8080/",
          "height": 330
        }
      },
      "source": [
        "support_vector_classifier()"
      ],
      "execution_count": 13,
      "outputs": [
        {
          "output_type": "display_data",
          "data": {
            "image/png": "[encoded data removed]",
            "text/plain": [
              "<Figure size 432x288 with 2 Axes>"
            ]
          },
          "metadata": {
            "tags": [],
            "needs_background": "light"
          }
        },
        {
          "output_type": "stream",
          "text": [
            "|   accuracy |   precision |   recall |   fscore |\n",
            "|------------+-------------+----------+----------|\n",
            "|   0.925287 |    0.925612 | 0.923321 | 0.919684 |\n"
          ],
          "name": "stdout"
        }
      ]
    },
    {
      "cell_type": "markdown",
      "metadata": {
        "id": "Ugny8GtzU-vJ",
        "colab_type": "text"
      },
      "source": [
        "### *LogisticRegression*"
      ]
    },
    {
      "cell_type": "code",
      "metadata": {
        "id": "PWSNoiSbzGzH",
        "colab_type": "code",
        "colab": {}
      },
      "source": [
        "def logistic_regression():\n",
        "  def metrics_analyzer(clf):\n",
        "    plot_confusion_matrix(clf, X_test, y_test, cmap=plt.cm.Blues)\n",
        "    plt.show()\n",
        "    accuracy = clf.score(X_test, y_test)\n",
        "    precision, recall, fscore, _ = precision_recall_fscore_support(y_test, clf.predict(X_test), average='macro')\n",
        "    print(tabulate([[accuracy, precision, recall, fscore]], headers=['accuracy', 'precision', 'recall', 'fscore'], tablefmt='orgtbl'))\n",
        "  clf = LogisticRegression()\n",
        "  clf.fit(X_train, y_train)\n",
        "  metrics_analyzer(clf)"
      ],
      "execution_count": 0,
      "outputs": []
    },
    {
      "cell_type": "code",
      "metadata": {
        "id": "L7uXNaA0nuh-",
        "colab_type": "code",
        "outputId": "de172ac7-eb36-4b7e-ad7b-8aaaac72b797",
        "colab": {
          "base_uri": "https://localhost:8080/",
          "height": 330
        }
      },
      "source": [
        "logistic_regression()"
      ],
      "execution_count": 15,
      "outputs": [
        {
          "output_type": "display_data",
          "data": {
            "image/png": "[encoded data removed]",
            "text/plain": [
              "<Figure size 432x288 with 2 Axes>"
            ]
          },
          "metadata": {
            "tags": [],
            "needs_background": "light"
          }
        },
        {
          "output_type": "stream",
          "text": [
            "|   accuracy |   precision |   recall |   fscore |\n",
            "|------------+-------------+----------+----------|\n",
            "|   0.928161 |    0.926996 | 0.922177 | 0.920768 |\n"
          ],
          "name": "stdout"
        }
      ]
    },
    {
      "cell_type": "markdown",
      "metadata": {
        "id": "Hh7xSfLhVF63",
        "colab_type": "text"
      },
      "source": [
        "### *Deep Neural Network*"
      ]
    },
    {
      "cell_type": "code",
      "metadata": {
        "id": "ILvAQxynu9BM",
        "colab_type": "code",
        "colab": {}
      },
      "source": [
        "def DNN_classifier():\n",
        "  def plot_graphs(history, arg):\n",
        "    plt.plot(history.history[arg])\n",
        "    plt.plot(history.history['val_'+arg])\n",
        "    plt.xlabel(\"Epochs\")\n",
        "    plt.ylabel(arg)\n",
        "    plt.legend([arg, 'val_'+arg])\n",
        "    plt.show()\n",
        " \n",
        "  model = Sequential()\n",
        "  model.add(Dense(64, input_shape=(300,), activation='relu'))\n",
        "  model.add(Dense(64, activation='relu'))\n",
        "  model.add(Dropout(0.5))\n",
        "  model.add(Dense(10, activation='softmax'))\n",
        "  model.compile(loss='sparse_categorical_crossentropy', \n",
        "                optimizer='adam',\n",
        "                metrics=['accuracy'])\n",
        "  history = model.fit(X_train, y_train, epochs=100, validation_split=0.1)\n",
        "  loss, acc = model.evaluate(X_test, y_test)\n",
        "  print(tabulate([[loss, acc]], headers=['loss', 'accuracy'], tablefmt='orgtbl'))\n",
        "  plot_graphs(history, 'accuracy')\n",
        "  plot_graphs(history, 'loss')"
      ],
      "execution_count": 0,
      "outputs": []
    },
    {
      "cell_type": "code",
      "metadata": {
        "id": "Ev0M1GztIYJr",
        "colab_type": "code",
        "outputId": "d0ce7604-29a0-4516-9637-634077412df9",
        "colab": {
          "base_uri": "https://localhost:8080/",
          "height": 1000
        }
      },
      "source": [
        "DNN_classifier()"
      ],
      "execution_count": 17,
      "outputs": [
        {
          "output_type": "stream",
          "text": [
            "Epoch 1/100\n",
            "40/40 [==============================] - 0s 7ms/step - loss: 2.2768 - accuracy: 0.1829 - val_loss: 2.2384 - val_accuracy: 0.2857\n",
            "Epoch 2/100\n",
            "40/40 [==============================] - 0s 3ms/step - loss: 2.1477 - accuracy: 0.3570 - val_loss: 2.0393 - val_accuracy: 0.4429\n",
            "Epoch 3/100\n",
            "40/40 [==============================] - 0s 3ms/step - loss: 1.8818 - accuracy: 0.4026 - val_loss: 1.7211 - val_accuracy: 0.5714\n",
            "Epoch 4/100\n",
            "40/40 [==============================] - 0s 3ms/step - loss: 1.5938 - accuracy: 0.4984 - val_loss: 1.4188 - val_accuracy: 0.6929\n",
            "Epoch 5/100\n",
            "40/40 [==============================] - 0s 3ms/step - loss: 1.3375 - accuracy: 0.5807 - val_loss: 1.1516 - val_accuracy: 0.7500\n",
            "Epoch 6/100\n",
            "40/40 [==============================] - 0s 3ms/step - loss: 1.1620 - accuracy: 0.6118 - val_loss: 0.9750 - val_accuracy: 0.7786\n",
            "Epoch 7/100\n",
            "40/40 [==============================] - 0s 3ms/step - loss: 1.0202 - accuracy: 0.6693 - val_loss: 0.8445 - val_accuracy: 0.8286\n",
            "Epoch 8/100\n",
            "40/40 [==============================] - 0s 3ms/step - loss: 0.9249 - accuracy: 0.6837 - val_loss: 0.7318 - val_accuracy: 0.8286\n",
            "Epoch 9/100\n",
            "40/40 [==============================] - 0s 3ms/step - loss: 0.8301 - accuracy: 0.7085 - val_loss: 0.6709 - val_accuracy: 0.8500\n",
            "Epoch 10/100\n",
            "40/40 [==============================] - 0s 3ms/step - loss: 0.7742 - accuracy: 0.7284 - val_loss: 0.6028 - val_accuracy: 0.8643\n",
            "Epoch 11/100\n",
            "40/40 [==============================] - 0s 3ms/step - loss: 0.7337 - accuracy: 0.7564 - val_loss: 0.5760 - val_accuracy: 0.8786\n",
            "Epoch 12/100\n",
            "40/40 [==============================] - 0s 3ms/step - loss: 0.6674 - accuracy: 0.7764 - val_loss: 0.5471 - val_accuracy: 0.8857\n",
            "Epoch 13/100\n",
            "40/40 [==============================] - 0s 3ms/step - loss: 0.6367 - accuracy: 0.7883 - val_loss: 0.5144 - val_accuracy: 0.8929\n",
            "Epoch 14/100\n",
            "40/40 [==============================] - 0s 2ms/step - loss: 0.5953 - accuracy: 0.8003 - val_loss: 0.4923 - val_accuracy: 0.8643\n",
            "Epoch 15/100\n",
            "40/40 [==============================] - 0s 3ms/step - loss: 0.5737 - accuracy: 0.7963 - val_loss: 0.4680 - val_accuracy: 0.9000\n",
            "Epoch 16/100\n",
            "40/40 [==============================] - 0s 3ms/step - loss: 0.5257 - accuracy: 0.8315 - val_loss: 0.4439 - val_accuracy: 0.8929\n",
            "Epoch 17/100\n",
            "40/40 [==============================] - 0s 3ms/step - loss: 0.5126 - accuracy: 0.8395 - val_loss: 0.4307 - val_accuracy: 0.8786\n",
            "Epoch 18/100\n",
            "40/40 [==============================] - 0s 3ms/step - loss: 0.4891 - accuracy: 0.8347 - val_loss: 0.4279 - val_accuracy: 0.8786\n",
            "Epoch 19/100\n",
            "40/40 [==============================] - 0s 3ms/step - loss: 0.4757 - accuracy: 0.8435 - val_loss: 0.4223 - val_accuracy: 0.8786\n",
            "Epoch 20/100\n",
            "40/40 [==============================] - 0s 2ms/step - loss: 0.4454 - accuracy: 0.8578 - val_loss: 0.3990 - val_accuracy: 0.8714\n",
            "Epoch 21/100\n",
            "40/40 [==============================] - 0s 3ms/step - loss: 0.4444 - accuracy: 0.8578 - val_loss: 0.3938 - val_accuracy: 0.8857\n",
            "Epoch 22/100\n",
            "40/40 [==============================] - 0s 3ms/step - loss: 0.4037 - accuracy: 0.8738 - val_loss: 0.3825 - val_accuracy: 0.8714\n",
            "Epoch 23/100\n",
            "40/40 [==============================] - 0s 3ms/step - loss: 0.3913 - accuracy: 0.8762 - val_loss: 0.3812 - val_accuracy: 0.8786\n",
            "Epoch 24/100\n",
            "40/40 [==============================] - 0s 3ms/step - loss: 0.3611 - accuracy: 0.8802 - val_loss: 0.3648 - val_accuracy: 0.8786\n",
            "Epoch 25/100\n",
            "40/40 [==============================] - 0s 3ms/step - loss: 0.3386 - accuracy: 0.9002 - val_loss: 0.3605 - val_accuracy: 0.8786\n",
            "Epoch 26/100\n",
            "40/40 [==============================] - 0s 3ms/step - loss: 0.3408 - accuracy: 0.8882 - val_loss: 0.3594 - val_accuracy: 0.8786\n",
            "Epoch 27/100\n",
            "40/40 [==============================] - 0s 3ms/step - loss: 0.3550 - accuracy: 0.8762 - val_loss: 0.3692 - val_accuracy: 0.8786\n",
            "Epoch 28/100\n",
            "40/40 [==============================] - 0s 3ms/step - loss: 0.3253 - accuracy: 0.8930 - val_loss: 0.3602 - val_accuracy: 0.8500\n",
            "Epoch 29/100\n",
            "40/40 [==============================] - 0s 3ms/step - loss: 0.3275 - accuracy: 0.8922 - val_loss: 0.3470 - val_accuracy: 0.8643\n",
            "Epoch 30/100\n",
            "40/40 [==============================] - 0s 2ms/step - loss: 0.3194 - accuracy: 0.9010 - val_loss: 0.3451 - val_accuracy: 0.8643\n",
            "Epoch 31/100\n",
            "40/40 [==============================] - 0s 2ms/step - loss: 0.2910 - accuracy: 0.9050 - val_loss: 0.3551 - val_accuracy: 0.8571\n",
            "Epoch 32/100\n",
            "40/40 [==============================] - 0s 3ms/step - loss: 0.2851 - accuracy: 0.9177 - val_loss: 0.3407 - val_accuracy: 0.8643\n",
            "Epoch 33/100\n",
            "40/40 [==============================] - 0s 3ms/step - loss: 0.2821 - accuracy: 0.9081 - val_loss: 0.3476 - val_accuracy: 0.8714\n",
            "Epoch 34/100\n",
            "40/40 [==============================] - 0s 3ms/step - loss: 0.2722 - accuracy: 0.9121 - val_loss: 0.3400 - val_accuracy: 0.8571\n",
            "Epoch 35/100\n",
            "40/40 [==============================] - 0s 3ms/step - loss: 0.2651 - accuracy: 0.9137 - val_loss: 0.3351 - val_accuracy: 0.8643\n",
            "Epoch 36/100\n",
            "40/40 [==============================] - 0s 3ms/step - loss: 0.2614 - accuracy: 0.9137 - val_loss: 0.3292 - val_accuracy: 0.8929\n",
            "Epoch 37/100\n",
            "40/40 [==============================] - 0s 3ms/step - loss: 0.2701 - accuracy: 0.9026 - val_loss: 0.3508 - val_accuracy: 0.8571\n",
            "Epoch 38/100\n",
            "40/40 [==============================] - 0s 3ms/step - loss: 0.2486 - accuracy: 0.9209 - val_loss: 0.3224 - val_accuracy: 0.8857\n",
            "Epoch 39/100\n",
            "40/40 [==============================] - 0s 3ms/step - loss: 0.2384 - accuracy: 0.9361 - val_loss: 0.3546 - val_accuracy: 0.8714\n",
            "Epoch 40/100\n",
            "40/40 [==============================] - 0s 3ms/step - loss: 0.2176 - accuracy: 0.9409 - val_loss: 0.3259 - val_accuracy: 0.8857\n",
            "Epoch 41/100\n",
            "40/40 [==============================] - 0s 3ms/step - loss: 0.2091 - accuracy: 0.9401 - val_loss: 0.3233 - val_accuracy: 0.8643\n",
            "Epoch 42/100\n",
            "40/40 [==============================] - 0s 3ms/step - loss: 0.2244 - accuracy: 0.9273 - val_loss: 0.3269 - val_accuracy: 0.8857\n",
            "Epoch 43/100\n",
            "40/40 [==============================] - 0s 3ms/step - loss: 0.2133 - accuracy: 0.9345 - val_loss: 0.3351 - val_accuracy: 0.8714\n",
            "Epoch 44/100\n",
            "40/40 [==============================] - 0s 3ms/step - loss: 0.1919 - accuracy: 0.9385 - val_loss: 0.3316 - val_accuracy: 0.8643\n",
            "Epoch 45/100\n",
            "40/40 [==============================] - 0s 3ms/step - loss: 0.2038 - accuracy: 0.9329 - val_loss: 0.3311 - val_accuracy: 0.8571\n",
            "Epoch 46/100\n",
            "40/40 [==============================] - 0s 3ms/step - loss: 0.1801 - accuracy: 0.9489 - val_loss: 0.3400 - val_accuracy: 0.8714\n",
            "Epoch 47/100\n",
            "40/40 [==============================] - 0s 3ms/step - loss: 0.1749 - accuracy: 0.9481 - val_loss: 0.3287 - val_accuracy: 0.8571\n",
            "Epoch 48/100\n",
            "40/40 [==============================] - 0s 3ms/step - loss: 0.1756 - accuracy: 0.9433 - val_loss: 0.3309 - val_accuracy: 0.8714\n",
            "Epoch 49/100\n",
            "40/40 [==============================] - 0s 3ms/step - loss: 0.1714 - accuracy: 0.9473 - val_loss: 0.3370 - val_accuracy: 0.8571\n",
            "Epoch 50/100\n",
            "40/40 [==============================] - 0s 3ms/step - loss: 0.1727 - accuracy: 0.9497 - val_loss: 0.3518 - val_accuracy: 0.8500\n",
            "Epoch 51/100\n",
            "40/40 [==============================] - 0s 3ms/step - loss: 0.1601 - accuracy: 0.9561 - val_loss: 0.3232 - val_accuracy: 0.8714\n",
            "Epoch 52/100\n",
            "40/40 [==============================] - 0s 3ms/step - loss: 0.1601 - accuracy: 0.9473 - val_loss: 0.3404 - val_accuracy: 0.8571\n",
            "Epoch 53/100\n",
            "40/40 [==============================] - 0s 3ms/step - loss: 0.1547 - accuracy: 0.9545 - val_loss: 0.3318 - val_accuracy: 0.8571\n",
            "Epoch 54/100\n",
            "40/40 [==============================] - 0s 3ms/step - loss: 0.1661 - accuracy: 0.9465 - val_loss: 0.3592 - val_accuracy: 0.8571\n",
            "Epoch 55/100\n",
            "40/40 [==============================] - 0s 3ms/step - loss: 0.1508 - accuracy: 0.9585 - val_loss: 0.3493 - val_accuracy: 0.8500\n",
            "Epoch 56/100\n",
            "40/40 [==============================] - 0s 2ms/step - loss: 0.1556 - accuracy: 0.9561 - val_loss: 0.3406 - val_accuracy: 0.8714\n",
            "Epoch 57/100\n",
            "40/40 [==============================] - 0s 3ms/step - loss: 0.1217 - accuracy: 0.9728 - val_loss: 0.3401 - val_accuracy: 0.8571\n",
            "Epoch 58/100\n",
            "40/40 [==============================] - 0s 3ms/step - loss: 0.1346 - accuracy: 0.9601 - val_loss: 0.3428 - val_accuracy: 0.8429\n",
            "Epoch 59/100\n",
            "40/40 [==============================] - 0s 3ms/step - loss: 0.1411 - accuracy: 0.9601 - val_loss: 0.3388 - val_accuracy: 0.8643\n",
            "Epoch 60/100\n",
            "40/40 [==============================] - 0s 2ms/step - loss: 0.1442 - accuracy: 0.9593 - val_loss: 0.3481 - val_accuracy: 0.8714\n",
            "Epoch 61/100\n",
            "40/40 [==============================] - 0s 3ms/step - loss: 0.1180 - accuracy: 0.9649 - val_loss: 0.3494 - val_accuracy: 0.8571\n",
            "Epoch 62/100\n",
            "40/40 [==============================] - 0s 3ms/step - loss: 0.1303 - accuracy: 0.9625 - val_loss: 0.3310 - val_accuracy: 0.8643\n",
            "Epoch 63/100\n",
            "40/40 [==============================] - 0s 3ms/step - loss: 0.1240 - accuracy: 0.9617 - val_loss: 0.3389 - val_accuracy: 0.8500\n",
            "Epoch 64/100\n",
            "40/40 [==============================] - 0s 3ms/step - loss: 0.1137 - accuracy: 0.9688 - val_loss: 0.3429 - val_accuracy: 0.8571\n",
            "Epoch 65/100\n",
            "40/40 [==============================] - 0s 3ms/step - loss: 0.1303 - accuracy: 0.9569 - val_loss: 0.3551 - val_accuracy: 0.8429\n",
            "Epoch 66/100\n",
            "40/40 [==============================] - 0s 3ms/step - loss: 0.1264 - accuracy: 0.9609 - val_loss: 0.3602 - val_accuracy: 0.8429\n",
            "Epoch 67/100\n",
            "40/40 [==============================] - 0s 3ms/step - loss: 0.1066 - accuracy: 0.9752 - val_loss: 0.3616 - val_accuracy: 0.8714\n",
            "Epoch 68/100\n",
            "40/40 [==============================] - 0s 3ms/step - loss: 0.1186 - accuracy: 0.9696 - val_loss: 0.3533 - val_accuracy: 0.8500\n",
            "Epoch 69/100\n",
            "40/40 [==============================] - 0s 3ms/step - loss: 0.1113 - accuracy: 0.9657 - val_loss: 0.3473 - val_accuracy: 0.8643\n",
            "Epoch 70/100\n",
            "40/40 [==============================] - 0s 3ms/step - loss: 0.1084 - accuracy: 0.9728 - val_loss: 0.3536 - val_accuracy: 0.8500\n",
            "Epoch 71/100\n",
            "40/40 [==============================] - 0s 3ms/step - loss: 0.1098 - accuracy: 0.9649 - val_loss: 0.3418 - val_accuracy: 0.8643\n",
            "Epoch 72/100\n",
            "40/40 [==============================] - 0s 3ms/step - loss: 0.0905 - accuracy: 0.9816 - val_loss: 0.3466 - val_accuracy: 0.8643\n",
            "Epoch 73/100\n",
            "40/40 [==============================] - 0s 3ms/step - loss: 0.1087 - accuracy: 0.9696 - val_loss: 0.3705 - val_accuracy: 0.8643\n",
            "Epoch 74/100\n",
            "40/40 [==============================] - 0s 3ms/step - loss: 0.0896 - accuracy: 0.9752 - val_loss: 0.3530 - val_accuracy: 0.8571\n",
            "Epoch 75/100\n",
            "40/40 [==============================] - 0s 3ms/step - loss: 0.1055 - accuracy: 0.9688 - val_loss: 0.3687 - val_accuracy: 0.8786\n",
            "Epoch 76/100\n",
            "40/40 [==============================] - 0s 3ms/step - loss: 0.0936 - accuracy: 0.9720 - val_loss: 0.3711 - val_accuracy: 0.8571\n",
            "Epoch 77/100\n",
            "40/40 [==============================] - 0s 3ms/step - loss: 0.1004 - accuracy: 0.9736 - val_loss: 0.3590 - val_accuracy: 0.8571\n",
            "Epoch 78/100\n",
            "40/40 [==============================] - 0s 3ms/step - loss: 0.1007 - accuracy: 0.9712 - val_loss: 0.3709 - val_accuracy: 0.8571\n",
            "Epoch 79/100\n",
            "40/40 [==============================] - 0s 3ms/step - loss: 0.0880 - accuracy: 0.9792 - val_loss: 0.3719 - val_accuracy: 0.8643\n",
            "Epoch 80/100\n",
            "40/40 [==============================] - 0s 3ms/step - loss: 0.0837 - accuracy: 0.9784 - val_loss: 0.3677 - val_accuracy: 0.8643\n",
            "Epoch 81/100\n",
            "40/40 [==============================] - 0s 3ms/step - loss: 0.0873 - accuracy: 0.9760 - val_loss: 0.3939 - val_accuracy: 0.8500\n",
            "Epoch 82/100\n",
            "40/40 [==============================] - 0s 3ms/step - loss: 0.0797 - accuracy: 0.9832 - val_loss: 0.3770 - val_accuracy: 0.8714\n",
            "Epoch 83/100\n",
            "40/40 [==============================] - 0s 3ms/step - loss: 0.0895 - accuracy: 0.9776 - val_loss: 0.3860 - val_accuracy: 0.8571\n",
            "Epoch 84/100\n",
            "40/40 [==============================] - 0s 3ms/step - loss: 0.0812 - accuracy: 0.9776 - val_loss: 0.4009 - val_accuracy: 0.8500\n",
            "Epoch 85/100\n",
            "40/40 [==============================] - 0s 3ms/step - loss: 0.0792 - accuracy: 0.9816 - val_loss: 0.4059 - val_accuracy: 0.8571\n",
            "Epoch 86/100\n",
            "40/40 [==============================] - 0s 3ms/step - loss: 0.0753 - accuracy: 0.9768 - val_loss: 0.3937 - val_accuracy: 0.8500\n",
            "Epoch 87/100\n",
            "40/40 [==============================] - 0s 3ms/step - loss: 0.0767 - accuracy: 0.9824 - val_loss: 0.3913 - val_accuracy: 0.8571\n",
            "Epoch 88/100\n",
            "40/40 [==============================] - 0s 3ms/step - loss: 0.0756 - accuracy: 0.9816 - val_loss: 0.3910 - val_accuracy: 0.8429\n",
            "Epoch 89/100\n",
            "40/40 [==============================] - 0s 3ms/step - loss: 0.0798 - accuracy: 0.9744 - val_loss: 0.4193 - val_accuracy: 0.8571\n",
            "Epoch 90/100\n",
            "40/40 [==============================] - 0s 3ms/step - loss: 0.0637 - accuracy: 0.9864 - val_loss: 0.4082 - val_accuracy: 0.8429\n",
            "Epoch 91/100\n",
            "40/40 [==============================] - 0s 3ms/step - loss: 0.0708 - accuracy: 0.9816 - val_loss: 0.4099 - val_accuracy: 0.8571\n",
            "Epoch 92/100\n",
            "40/40 [==============================] - 0s 3ms/step - loss: 0.0753 - accuracy: 0.9776 - val_loss: 0.4061 - val_accuracy: 0.8500\n",
            "Epoch 93/100\n",
            "40/40 [==============================] - 0s 3ms/step - loss: 0.0749 - accuracy: 0.9792 - val_loss: 0.4330 - val_accuracy: 0.8429\n",
            "Epoch 94/100\n",
            "40/40 [==============================] - 0s 3ms/step - loss: 0.0579 - accuracy: 0.9880 - val_loss: 0.4193 - val_accuracy: 0.8500\n",
            "Epoch 95/100\n",
            "40/40 [==============================] - 0s 3ms/step - loss: 0.0659 - accuracy: 0.9816 - val_loss: 0.4528 - val_accuracy: 0.8429\n",
            "Epoch 96/100\n",
            "40/40 [==============================] - 0s 3ms/step - loss: 0.0636 - accuracy: 0.9840 - val_loss: 0.4373 - val_accuracy: 0.8571\n",
            "Epoch 97/100\n",
            "40/40 [==============================] - 0s 3ms/step - loss: 0.0692 - accuracy: 0.9768 - val_loss: 0.4346 - val_accuracy: 0.8571\n",
            "Epoch 98/100\n",
            "40/40 [==============================] - 0s 3ms/step - loss: 0.0596 - accuracy: 0.9856 - val_loss: 0.4308 - val_accuracy: 0.8571\n",
            "Epoch 99/100\n",
            "40/40 [==============================] - 0s 3ms/step - loss: 0.0668 - accuracy: 0.9832 - val_loss: 0.4436 - val_accuracy: 0.8500\n",
            "Epoch 100/100\n",
            "40/40 [==============================] - 0s 3ms/step - loss: 0.0593 - accuracy: 0.9832 - val_loss: 0.4776 - val_accuracy: 0.8500\n",
            "11/11 [==============================] - 0s 1ms/step - loss: 0.3537 - accuracy: 0.8908\n",
            "|     loss |   accuracy |\n",
            "|----------+------------|\n",
            "| 0.353725 |   0.890805 |\n"
          ],
          "name": "stdout"
        },
        {
          "output_type": "display_data",
          "data": {
            "image/png": "[encoded data removed]",
            "text/plain": [
              "<Figure size 432x288 with 1 Axes>"
            ]
          },
          "metadata": {
            "tags": [],
            "needs_background": "light"
          }
        },
        {
          "output_type": "display_data",
          "data": {
            "image/png": "[encoded data removed]",
            "text/plain": [
              "<Figure size 432x288 with 1 Axes>"
            ]
          },
          "metadata": {
            "tags": [],
            "needs_background": "light"
          }
        }
      ]
    }
  ]
}